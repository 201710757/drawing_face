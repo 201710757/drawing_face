{
 "cells": [
  {
   "cell_type": "code",
   "execution_count": 45,
   "id": "1b2f0cb4",
   "metadata": {},
   "outputs": [
    {
     "name": "stdout",
     "output_type": "stream",
     "text": [
      "WARNING:tensorflow:Deprecation warnings have been disabled. Set TF_ENABLE_DEPRECATION_WARNINGS=1 to re-enable them.\n"
     ]
    },
    {
     "name": "stderr",
     "output_type": "stream",
     "text": [
      "[nltk_data] Downloading package punkt to /home/jihoon/nltk_data...\n",
      "[nltk_data]   Package punkt is already up-to-date!\n"
     ]
    }
   ],
   "source": [
    "import numpy as np\n",
    "import tensorflow as tf\n",
    "from tensorflow.keras.models import Sequential\n",
    "from tensorflow.keras.layers import Dense\n",
    "from tensorflow.keras.layers import LSTM, Bidirectional\n",
    "from tensorflow.keras.layers import Embedding\n",
    "from tensorflow.keras.preprocessing import sequence\n",
    "import pandas as pd\n",
    "from nltk.tokenize import word_tokenize\n",
    "import nltk\n",
    "import pickle\n",
    "\n",
    "nltk.download('punkt')\n",
    "\n",
    "dataset = pd.read_csv('./data/draw.train_real_withHair.tsv', delimiter='\\t')\n",
    "\n",
    "# make word dictionary\n",
    "dictionary_word = {\"TEST\" : -1}\n",
    "max_len = -9876\n",
    "for i in range(dataset.shape[0]):\n",
    "    s = dataset.iloc[i][1]\n",
    "    token = word_tokenize(s)\n",
    "    if max_len < len(token):\n",
    "        max_len = len(token) \n",
    "    for word in token:\n",
    "        try:\n",
    "            if dictionary_word[word] == '1234':\n",
    "                pass\n",
    "        except:\n",
    "            dictionary_word[word] = dictionary_word[max(dictionary_word, key=dictionary_word.get)] + 1\n",
    "\n",
    "# setting - train data\n",
    "train_x = np.empty((0, max_len), int)\n",
    "for i in range(dataset.shape[0]):\n",
    "    s = dataset.iloc[i][1]\n",
    "    token = word_tokenize(s)\n",
    "    tmp = []\n",
    "    for word in token:\n",
    "        tmp.append(dictionary_word[word])\n",
    "    if len(tmp) != max_len:\n",
    "        for _ in range(max_len - len(tmp)):\n",
    "            tmp.append(0)\n",
    "    \n",
    "    train_x = np.append(train_x, np.array([tmp]), axis=0)\n",
    "\n",
    "# make label dictionary\n",
    "label_dict = {\"TEST\" : -1}\n",
    "for i in range(dataset.shape[0]):\n",
    "    s = dataset.iloc[i][0]\n",
    "    \n",
    "    try:\n",
    "        if label_dict[s] == -987:\n",
    "            pass\n",
    "    except:\n",
    "        label_dict[s] = label_dict[max(label_dict, key=label_dict.get)] + 1\n",
    "\n",
    "\n",
    "# setting - label\n",
    "train_y = np.array([])\n",
    "for i in range(dataset.shape[0]):\n",
    "    s = dataset.iloc[i][0]\n",
    "    train_y = np.append(train_y, int(label_dict[s]))\n",
    "\n",
    "train_y = train_y.astype('int32')\n",
    "train_x = train_x.astype('int32')\n"
   ]
  },
  {
   "cell_type": "code",
   "execution_count": 46,
   "id": "2014dfd2",
   "metadata": {
    "scrolled": true
   },
   "outputs": [
    {
     "data": {
      "text/plain": [
       "{'TEST': -1,\n",
       " 'hb0': 0,\n",
       " 's0': 1,\n",
       " 'fs0': 2,\n",
       " 'hb1': 3,\n",
       " 'hc0': 4,\n",
       " 'fs1': 5,\n",
       " 'hc2': 6,\n",
       " 'hc1': 7,\n",
       " 'fs3': 8,\n",
       " 'hb2': 9,\n",
       " 'fs2': 10,\n",
       " 's1': 11,\n",
       " 'hl1': 12,\n",
       " 'hl3': 13,\n",
       " 'hl2': 14}"
      ]
     },
     "execution_count": 46,
     "metadata": {},
     "output_type": "execute_result"
    }
   ],
   "source": [
    "label_dict"
   ]
  },
  {
   "cell_type": "code",
   "execution_count": 6,
   "id": "02388482",
   "metadata": {},
   "outputs": [
    {
     "data": {
      "text/plain": [
       "0                     She is a middle-aged white woman\n",
       "1     Her hair is brown, and it's long and slightly...\n",
       "2                               She doesn't have bangs\n",
       "3                                      She is grinning\n",
       "4               She has no beard, and has a round face\n",
       "5     She has wrinkles around the eyes and smile li...\n",
       "6             She has double eyelids and thin eyebrows\n",
       "7                                   She has black eyes\n",
       "8                             She doesn't wear glasses\n",
       "9               Her head direction is toward the right\n",
       "Name: 0, dtype: object"
      ]
     },
     "execution_count": 6,
     "metadata": {},
     "output_type": "execute_result"
    }
   ],
   "source": [
    "pd.DataFrame(res[0])[0]"
   ]
  },
  {
   "cell_type": "code",
   "execution_count": 42,
   "id": "606cc21a",
   "metadata": {},
   "outputs": [
    {
     "name": "stdout",
     "output_type": "stream",
     "text": [
      "0    False\n",
      "1    False\n",
      "2    False\n",
      "3    False\n",
      "4    False\n",
      "5    False\n",
      "6    False\n",
      "7    False\n",
      "8    False\n",
      "Name: 0, dtype: bool\n"
     ]
    },
    {
     "data": {
      "text/plain": [
       "False"
      ]
     },
     "execution_count": 42,
     "metadata": {},
     "output_type": "execute_result"
    }
   ],
   "source": [
    "s = pd.DataFrame(res[i])\n",
    "a = s[0].str.contains('hair')\n",
    "b = s[0].str.contains('long|short')\n",
    "print(a & b)\n",
    "False & False"
   ]
  },
  {
   "cell_type": "code",
   "execution_count": 15,
   "id": "036422c7",
   "metadata": {},
   "outputs": [
    {
     "data": {
      "text/plain": [
       "0"
      ]
     },
     "execution_count": 15,
     "metadata": {},
     "output_type": "execute_result"
    }
   ],
   "source": [
    "s.str.contains('kill').sum()"
   ]
  },
  {
   "cell_type": "code",
   "execution_count": null,
   "id": "caff9be9",
   "metadata": {},
   "outputs": [],
   "source": []
  }
 ],
 "metadata": {
  "kernelspec": {
   "display_name": "Python 3",
   "language": "python",
   "name": "python3"
  },
  "language_info": {
   "codemirror_mode": {
    "name": "ipython",
    "version": 3
   },
   "file_extension": ".py",
   "mimetype": "text/x-python",
   "name": "python",
   "nbconvert_exporter": "python",
   "pygments_lexer": "ipython3",
   "version": "3.8.8"
  }
 },
 "nbformat": 4,
 "nbformat_minor": 5
}
